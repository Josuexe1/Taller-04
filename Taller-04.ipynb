{
 "cells": [
  {
   "cell_type": "markdown",
   "metadata": {},
   "source": [
    "# Taller 04\n",
    "## Ajuste de curvas por mínimos cuadrados \n",
    "### Erick Josue Mantuano \n",
    "### 14 de Diciembre"
   ]
  },
  {
   "cell_type": "code",
   "execution_count": 1,
   "metadata": {},
   "outputs": [
    {
     "data": {
      "application/vnd.jupyter.widget-view+json": {
       "model_id": "d816d82256844c59be9cbc98f4b86d05",
       "version_major": 2,
       "version_minor": 0
      },
      "text/plain": [
       "interactive(children=(FloatSlider(value=8.9, description='p2_x', max=12.3, min=5.5), FloatSlider(value=0.0, de…"
      ]
     },
     "metadata": {},
     "output_type": "display_data"
    }
   ],
   "source": [
    "#Codigo Base para el Ejercicio \n",
    "p1 = (5.4, 3.2)\n",
    "p2_i = (9.5, 0.7)\n",
    "p3 = (12.3, -3.6)\n",
    "from ipywidgets import interact\n",
    "import matplotlib.pyplot as plt\n",
    "\n",
    "m = -1\n",
    "b = 8\n",
    "\n",
    "\n",
    "def update_plot(p2_x, p2_y):\n",
    "    x_coords = [p1[0], p2_x, p3[0]]\n",
    "    y_coords = [p1[1], p2_y, p3[1]]\n",
    "\n",
    "    plt.figure(figsize=(10, 6))\n",
    "    plt.scatter(x_coords, y_coords, color=\"red\")\n",
    "\n",
    "    x_line = [min(x_coords), max(x_coords)]\n",
    "    y_line = [m * x + b for x in x_line]\n",
    "    plt.plot(x_line, y_line, color=\"blue\")\n",
    "\n",
    "    plt.xlabel(\"X\")\n",
    "    plt.ylabel(\"Y\")\n",
    "    plt.title(\"Points and Line Plot\")\n",
    "    plt.show()\n",
    "\n",
    "\n",
    "_ = interact(update_plot, p2_x=(5.5, 12.3, 0.1), p2_y=(-10.0, 10.0, 0.1))"
   ]
  },
  {
   "cell_type": "code",
   "execution_count": 3,
   "metadata": {},
   "outputs": [
    {
     "data": {
      "application/vnd.jupyter.widget-view+json": {
       "model_id": "713dc287cbed4ef5a9ed70656360a778",
       "version_major": 2,
       "version_minor": 0
      },
      "text/plain": [
       "interactive(children=(FloatSlider(value=8.9, description='p2_x', max=12.3, min=5.5), FloatSlider(value=0.0, de…"
      ]
     },
     "metadata": {},
     "output_type": "display_data"
    }
   ],
   "source": [
    "#Codigo modificado con regresion lineal \n",
    "\n",
    "import numpy as np\n",
    "from ipywidgets import interact\n",
    "import matplotlib.pyplot as plt\n",
    "\n",
    "# Define los puntos iniciales\n",
    "p1 = (5.4, 3.2)\n",
    "p2 = (9.5, 0.7)\n",
    "p3 = (12.3, -3.6)\n",
    "\n",
    "# Combina los puntos en arrays para X y Y\n",
    "points = np.array([p1, p2, p3])\n",
    "\n",
    "# Función para actualizar la gráfica\n",
    "def update_plot(p2_x, p2_y):\n",
    "    # Actualiza las coordenadas del segundo punto\n",
    "    points[1] = [p2_x, p2_y]\n",
    "    \n",
    "    # Recalcula los coeficientes de la línea de regresión\n",
    "    X = points[:, 0]  # Coordenadas X\n",
    "    Y = points[:, 1]  # Coordenadas Y\n",
    "    A = np.vstack([X, np.ones(len(X))]).T  # Matriz de diseño\n",
    "    m, b = np.linalg.lstsq(A, Y, rcond=None)[0]  # Resuelve para m y b\n",
    "    \n",
    "    # Prepara la gráfica\n",
    "    plt.figure(figsize=(10, 6))\n",
    "    plt.scatter(X, Y, color=\"red\", label=\"Puntos\")  # Puntos\n",
    "    \n",
    "    # Dibuja la línea de regresión\n",
    "    x_line = np.linspace(min(X), max(X), 100)  # Valores de X para la línea\n",
    "    y_line = m * x_line + b                    # Valores de Y usando la ecuación\n",
    "    plt.plot(x_line, y_line, color=\"blue\", label=f\"y = {m:.2f}x + {b:.2f}\")\n",
    "    \n",
    "    # Configuración de la gráfica\n",
    "    plt.xlabel(\"X\")\n",
    "    plt.ylabel(\"Y\")\n",
    "    plt.title(\"Regresión Lineal y Puntos\")\n",
    "    plt.grid(True)\n",
    "    plt.legend()\n",
    "    plt.show()\n",
    "\n",
    "# Usa interact para ajustar dinámicamente el segundo punto\n",
    "_ = interact(update_plot, p2_x=(5.5, 12.3, 0.1), p2_y=(-10.0, 10.0, 0.1))\n"
   ]
  }
 ],
 "metadata": {
  "kernelspec": {
   "display_name": "base",
   "language": "python",
   "name": "python3"
  },
  "language_info": {
   "codemirror_mode": {
    "name": "ipython",
    "version": 3
   },
   "file_extension": ".py",
   "mimetype": "text/x-python",
   "name": "python",
   "nbconvert_exporter": "python",
   "pygments_lexer": "ipython3",
   "version": "3.12.4"
  }
 },
 "nbformat": 4,
 "nbformat_minor": 2
}
